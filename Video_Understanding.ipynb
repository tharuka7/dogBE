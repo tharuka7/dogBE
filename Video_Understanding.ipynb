{
  "cells": [
    {
      "cell_type": "markdown",
      "metadata": {
        "colab_type": "text",
        "id": "view-in-github"
      },
      "source": [
        "<a href=\"https://colab.research.google.com/github/ywchanna2001/Pet_Care_App_BE/blob/main/Video_Understanding.ipynb\" target=\"_parent\"><img src=\"https://colab.research.google.com/assets/colab-badge.svg\" alt=\"Open In Colab\"/></a>"
      ]
    },
    {
      "cell_type": "markdown",
      "metadata": {
        "id": "PwjBzyiyCSdq"
      },
      "source": [
        "## Install SDK"
      ]
    },
    {
      "cell_type": "code",
      "execution_count": 2,
      "metadata": {
        "id": "I1BFx_YfB1ET"
      },
      "outputs": [],
      "source": [
        "%pip install -U -q 'google-genai'"
      ]
    },
    {
      "cell_type": "markdown",
      "metadata": {
        "id": "3M_UYv84CVv6"
      },
      "source": [
        "## Setup API key"
      ]
    },
    {
      "cell_type": "code",
      "execution_count": 3,
      "metadata": {
        "id": "iOiznui4B9nK"
      },
      "outputs": [],
      "source": [
        "from google.colab import userdata\n",
        "\n",
        "GOOGLE_API_KEY=userdata.get('GOOGLE_API_KEY')"
      ]
    },
    {
      "cell_type": "markdown",
      "metadata": {
        "id": "ThBJVXuDChfZ"
      },
      "source": [
        "## Initialize SDK client"
      ]
    },
    {
      "cell_type": "code",
      "execution_count": 4,
      "metadata": {
        "id": "BWQMUr1LCFvu"
      },
      "outputs": [],
      "source": [
        "from google import genai\n",
        "from google.genai import types\n",
        "\n",
        "client = genai.Client(api_key=GOOGLE_API_KEY)"
      ]
    },
    {
      "cell_type": "code",
      "execution_count": 5,
      "metadata": {
        "colab": {
          "base_uri": "https://localhost:8080/"
        },
        "id": "q9GD4qclPySk",
        "outputId": "cdee49d6-cabc-4cb9-eec2-eeee2acb9100"
      },
      "outputs": [
        {
          "name": "stdout",
          "output_type": "stream",
          "text": [
            "<class 'google.genai.client.Client'>\n"
          ]
        }
      ],
      "source": [
        "print(type(client))"
      ]
    },
    {
      "cell_type": "markdown",
      "metadata": {
        "id": "zcmAh4H8DUwf"
      },
      "source": [
        "## Select the Gemini model\n",
        "\n",
        "Video understanding works best Gemini 2.5 pro model. We can also select former models to compare their behavior but it is recommended to use at least the 2.0 ones.\n",
        "\n",
        "Official comparison:\n",
        "https://deepmind.google/technologies/gemini/pro/"
      ]
    },
    {
      "cell_type": "code",
      "execution_count": 6,
      "metadata": {
        "id": "uVIg9jPfCkQX"
      },
      "outputs": [],
      "source": [
        "model_name = \"gemini-2.5-pro-exp-03-25\" # @param [\"gemini-1.5-flash-latest\",\"gemini-2.0-flash-lite\",\"gemini-2.0-flash\",\"gemini-2.5-pro-exp-03-25\"] {\"allow-input\":true, isTemplate: true}"
      ]
    },
    {
      "cell_type": "markdown",
      "metadata": {
        "id": "xr66lgpyEY8n"
      },
      "source": [
        "## Analyze youtube videos\n",
        "\n",
        "Until we create a rabies dog video data set we decided to analyze and process the videos that include rabid dogs' visuals."
      ]
    },
    {
      "cell_type": "code",
      "execution_count": 15,
      "metadata": {
        "colab": {
          "base_uri": "https://localhost:8080/",
          "height": 818
        },
        "id": "kMxUf9upE48A",
        "outputId": "a7b7e78e-38a6-4be3-c263-b45d90d0e6c3"
      },
      "outputs": [
        {
          "name": "stdout",
          "output_type": "stream",
          "text": [
            "Attempting to analyze YouTube video: https://youtube.com/shorts/KtQM7kHVDxA?si=OuN01NKsm2ANto2T\n",
            "Using Model: gemini-2.5-pro-exp-03-25\n",
            "Prompt: '\n",
            "**Role:** You are an AI assistant specialized in analyzing animal behavior from video footage. You are tasked with identifying behavioral signs potentially associated with neurological conditions like rabies in dogs, based *only* on the visual information provided. You are NOT a veterinarian and cannot provide a diagnosis.\n",
            "\n",
            "**Task:** Analyze the provided video clip of a dog. Identify any behaviors exhibited that are commonly listed as potential symptoms of rabies. Based *solely* on the observed behaviors in the video, assess a *potential risk level* (Low, Medium, High) that these behaviors *could be consistent* with rabies symptoms. Provide a concise explanation for your assessment, referencing specific visual evidence.\n",
            "\n",
            "**Input:** A video clip showing a dog's behavior.\n",
            "\n",
            "**Analysis Guidelines:**\n",
            "1.  **Observe Behaviors:** Carefully watch the dog's actions, movements, posture, and any audible sounds if discernible.\n",
            "2.  **Identify Potential Signs:** Look specifically for behaviors such as:\n",
            "    *   Unprovoked aggression or unusual irritability\n",
            "    *   Excessive drooling or foaming at the mouth (hypersalivation)\n",
            "    *   Difficulty swallowing (dysphagia)\n",
            "    *   Strange vocalizations (unusual barking, howling, whining)\n",
            "    *   Stumbling, incoordination, weakness, or paralysis (especially in the hind legs)\n",
            "    *   Disorientation, confusion, or vacant staring\n",
            "    *   Restlessness, pacing, or agitation\n",
            "    *   Seizures\n",
            "    *   Jaw dropping or facial paralysis\n",
            "    *   Aversion to water (hydrophobia - rare to capture clearly on video but note any related behavior)\n",
            "    *   Self-mutilation (biting/chewing at limbs)\n",
            "3.  **Assess Risk Level:** Based on the presence, combination, and severity of the *observed signs only*:\n",
            "    *   **Low Risk:** No specific rabies-associated signs observed, or behavior appears normal/explainable by context (e.g., playful barking, normal tiredness).\n",
            "    *   **Medium Risk:** One or two potential signs observed, but they could also have other causes (e.g., some agitation, slight incoordination that could be an injury). The behavior warrants caution.\n",
            "    *   **High Risk:** Multiple significant signs strongly associated with rabies are clearly visible (e.g., unprovoked aggression combined with facial paralysis and hypersalivation; severe disorientation with seizures).\n",
            "4.  **Explain Your Reasoning:** Briefly describe *which specific behaviors* (or lack thereof) led to your risk assessment. Be factual and refer only to what is visible in the video.\n",
            "5.  **Mandatory Disclaimer:** ALWAYS conclude your explanation with: \"Disclaimer: This analysis is based solely on the provided video and is NOT a veterinary diagnosis. Rabies is a serious condition. If you have any concerns about this animal's health or behavior, consult a qualified veterinarian immediately.\"\n",
            "\n",
            "**Output Format:** Please provide the response in JSON format with the following keys:\n",
            "*   `risk_level`: (String: \"Low\", \"Medium\", or \"High\")\n",
            "*   `explanation`: (String: Your detailed explanation, including the mandatory disclaimer)\n",
            "*   `observed_signs`: (List of Strings: Specific potential signs observed, e.g., [\"Unprovoked aggression\", \"Hypersalivation\"])\n",
            "\n",
            "**Example Video Input:** [Video Data or Reference to Video Data will be provided here by the API call]\n",
            "'\n",
            "Analysis successful.\n",
            "\n",
            "--- Analysis Result ---\n"
          ]
        },
        {
          "data": {
            "text/markdown": [
              "```json\n",
              "{\n",
              "  \"risk_level\": \"Low\",\n",
              "  \"explanation\": \"The dog in the video displays calm and tolerant behavior while interacting with a person applying a slap bracelet. There are no observable signs commonly associated with rabies, such as unprovoked aggression, excessive drooling, disorientation, incoordination, facial paralysis, unusual vocalizations, or seizures. The dog sits patiently and does not react negatively to the stimulus. Disclaimer: This analysis is based solely on the provided video and is NOT a veterinary diagnosis. Rabies is a serious condition. If you have any concerns about this animal's health or behavior, consult a qualified veterinarian immediately.\",\n",
              "  \"observed_signs\": []\n",
              "}\n",
              "```"
            ],
            "text/plain": [
              "<IPython.core.display.Markdown object>"
            ]
          },
          "metadata": {},
          "output_type": "display_data"
        }
      ],
      "source": [
        "import google.genai as genai\n",
        "from google.genai import types\n",
        "import json\n",
        "from PIL import Image\n",
        "from IPython.display import display, Markdown, HTML\n",
        "\n",
        "def analyze_youtube_video(prompt: str, youtube_url: str, client: genai.Client, model: str) -> str:\n",
        "    \"\"\"\n",
        "    Analyzes a YouTube video using the Gemini API with a custom prompt.\n",
        "\n",
        "    Args:\n",
        "        prompt: The text prompt/instructions for the AI model.\n",
        "        youtube_url: The URL of the YouTube video to analyze.\n",
        "        client: The initialized google.genai.Client instance.\n",
        "        model: The name of the Gemini model to use (e.g., \"gemini-1.5-pro-preview-latest\").\n",
        "\n",
        "    Returns:\n",
        "        The text response generated by the Gemini model, or an error message.\n",
        "\n",
        "    Raises:\n",
        "        # Catches general exceptions, specific API errors might be handled differently.\n",
        "        Exception: If the API call fails for reasons other than generation blocking.\n",
        "    \"\"\"\n",
        "    print(f\"Attempting to analyze YouTube video: {youtube_url}\")\n",
        "    print(f\"Using Model: {model}\")\n",
        "    print(f\"Prompt: '{prompt}'\")\n",
        "\n",
        "    try:\n",
        "        # Create the video part using FileData with the URI\n",
        "        video_part = types.Part(\n",
        "            file_data=types.FileData(file_uri=youtube_url)\n",
        "        )\n",
        "\n",
        "        # Create the text prompt part\n",
        "        prompt_part = types.Part(text=prompt)\n",
        "\n",
        "        # Construct the content object with both parts\n",
        "        # The order of parts generally doesn't matter, but prompt first is common\n",
        "        content_to_send = types.Content(parts=[prompt_part, video_part])\n",
        "\n",
        "        # Make the API call\n",
        "        response = client.models.generate_content(\n",
        "            model=model,\n",
        "            contents=content_to_send\n",
        "        )\n",
        "\n",
        "        # Check if the response has text (it might be blocked)\n",
        "        if hasattr(response, 'text'):\n",
        "             print(\"Analysis successful.\")\n",
        "             return response.text\n",
        "        else:\n",
        "             # Handle cases where the response might be empty or blocked\n",
        "             print(\"Warning: Response did not contain text. It might have been blocked.\")\n",
        "             # You might want to inspect response.prompt_feedback or other attributes\n",
        "             return f\"Analysis generated no text output. Response details: {response}\"\n",
        "\n",
        "\n",
        "    except Exception as e:\n",
        "        # Handle potential errors during the API call\n",
        "        print(f\"An error occurred during Gemini API call: {e}\")\n",
        "        # You might want to log the full exception traceback here\n",
        "        # import traceback\n",
        "        # traceback.print_exc()\n",
        "        return f\"Error analyzing video: {e}\"\n",
        "\n",
        "# --- Example Usage ---\n",
        "\n",
        "# **Important:** Make sure 'client' and 'model_name' are defined and valid before running this.\n",
        "if 'client' in locals() and 'model_name' in locals():\n",
        "\n",
        "    # Define your custom prompt and video URL\n",
        "    my_custom_prompt = \"\"\"\n",
        "**Role:** You are an AI assistant specialized in analyzing animal behavior from video footage. You are tasked with identifying behavioral signs potentially associated with neurological conditions like rabies in dogs, based *only* on the visual information provided. You are NOT a veterinarian and cannot provide a diagnosis.\n",
        "\n",
        "**Task:** Analyze the provided video clip of a dog. Identify any behaviors exhibited that are commonly listed as potential symptoms of rabies. Based *solely* on the observed behaviors in the video, assess a *potential risk level* (Low, Medium, High) that these behaviors *could be consistent* with rabies symptoms. Provide a concise explanation for your assessment, referencing specific visual evidence.\n",
        "\n",
        "**Input:** A video clip showing a dog's behavior.\n",
        "\n",
        "**Analysis Guidelines:**\n",
        "1.  **Observe Behaviors:** Carefully watch the dog's actions, movements, posture, and any audible sounds if discernible.\n",
        "2.  **Identify Potential Signs:** Look specifically for behaviors such as:\n",
        "    *   Unprovoked aggression or unusual irritability\n",
        "    *   Excessive drooling or foaming at the mouth (hypersalivation)\n",
        "    *   Difficulty swallowing (dysphagia)\n",
        "    *   Strange vocalizations (unusual barking, howling, whining)\n",
        "    *   Stumbling, incoordination, weakness, or paralysis (especially in the hind legs)\n",
        "    *   Disorientation, confusion, or vacant staring\n",
        "    *   Restlessness, pacing, or agitation\n",
        "    *   Seizures\n",
        "    *   Jaw dropping or facial paralysis\n",
        "    *   Aversion to water (hydrophobia - rare to capture clearly on video but note any related behavior)\n",
        "    *   Self-mutilation (biting/chewing at limbs)\n",
        "3.  **Assess Risk Level:** Based on the presence, combination, and severity of the *observed signs only*:\n",
        "    *   **Low Risk:** No specific rabies-associated signs observed, or behavior appears normal/explainable by context (e.g., playful barking, normal tiredness).\n",
        "    *   **Medium Risk:** One or two potential signs observed, but they could also have other causes (e.g., some agitation, slight incoordination that could be an injury). The behavior warrants caution.\n",
        "    *   **High Risk:** Multiple significant signs strongly associated with rabies are clearly visible (e.g., unprovoked aggression combined with facial paralysis and hypersalivation; severe disorientation with seizures).\n",
        "4.  **Explain Your Reasoning:** Briefly describe *which specific behaviors* (or lack thereof) led to your risk assessment. Be factual and refer only to what is visible in the video.\n",
        "5.  **Mandatory Disclaimer:** ALWAYS conclude your explanation with: \"Disclaimer: This analysis is based solely on the provided video and is NOT a veterinary diagnosis. Rabies is a serious condition. If you have any concerns about this animal's health or behavior, consult a qualified veterinarian immediately.\"\n",
        "\n",
        "**Output Format:** Please provide the response in JSON format with the following keys:\n",
        "*   `risk_level`: (String: \"Low\", \"Medium\", or \"High\")\n",
        "*   `explanation`: (String: Your detailed explanation, including the mandatory disclaimer)\n",
        "*   `observed_signs`: (List of Strings: Specific potential signs observed, e.g., [\"Unprovoked aggression\", \"Hypersalivation\"])\n",
        "\n",
        "**Example Video Input:** [Video Data or Reference to Video Data will be provided here by the API call]\n",
        "\"\"\"\n",
        "\n",
        "\n",
        "    video_to_analyze_url = 'https://youtube.com/shorts/KtQM7kHVDxA?si=OuN01NKsm2ANto2T'\n",
        "\n",
        "    # Call the function\n",
        "    analysis_result = analyze_youtube_video(\n",
        "        prompt=my_custom_prompt,\n",
        "        youtube_url=video_to_analyze_url,\n",
        "        client=client,\n",
        "        model=model_name\n",
        "    )\n",
        "\n",
        "    # Display the result using Markdown\n",
        "    print(\"\\n--- Analysis Result ---\")\n",
        "    if analysis_result.startswith(\"Error\"):\n",
        "        print(analysis_result) # Print error messages directly\n",
        "    else:\n",
        "        display(Markdown(analysis_result))\n",
        "\n",
        "else:\n",
        "    print(\"Error: Please ensure 'client' (genai.Client) and 'model_name' are defined.\")"
      ]
    },
    {
      "cell_type": "code",
      "execution_count": 7,
      "metadata": {
        "id": "VE4nEApEOJ1Z"
      },
      "outputs": [],
      "source": []
    }
  ],
  "metadata": {
    "colab": {
      "authorship_tag": "ABX9TyPFRSXo+AptQqXlEoV8eymW",
      "include_colab_link": true,
      "provenance": []
    },
    "kernelspec": {
      "display_name": "Python 3",
      "language": "python",
      "name": "python3"
    },
    "language_info": {
      "name": "python",
      "version": "3.12.6"
    }
  },
  "nbformat": 4,
  "nbformat_minor": 0
}
